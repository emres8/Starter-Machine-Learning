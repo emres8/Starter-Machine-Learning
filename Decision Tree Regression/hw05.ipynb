{
 "cells": [
  {
   "cell_type": "code",
   "execution_count": 1,
   "metadata": {},
   "outputs": [],
   "source": [
    "import matplotlib.pyplot as plt\n",
    "import numpy as np\n",
    "import pandas as pd\n",
    "import math \n",
    "\n",
    "data = np.genfromtxt(\"hw04_data_set.csv\", delimiter = \",\",skip_header = 1)\n",
    "\n",
    "#data.shape (133, 2)\n",
    "x_train = data[0:100,0]\n",
    "y_train= data[0:100,1]\n",
    "x_test = data[100:133,0]\n",
    "y_test = data[100:133,1]\n",
    "\n",
    "\n",
    "N = x_train.shape[0]"
   ]
  },
  {
   "cell_type": "code",
   "execution_count": 2,
   "metadata": {
    "scrolled": true
   },
   "outputs": [],
   "source": [
    "# learning algorithm\n",
    "def learning_algorithm(p):\n",
    "    # create necessary data structures\n",
    "    node_indices = {}\n",
    "    is_terminal = {}\n",
    "    need_split = {}\n",
    "\n",
    "    node_splits = {}\n",
    "    node_means= {}\n",
    "\n",
    "    # put all training instances into the root node\n",
    "    node_indices[1] = np.array(range(N))\n",
    "    is_terminal[1] = False\n",
    "    need_split[1] = True\n",
    "    while True:\n",
    "        # find nodes that need splitting\n",
    "        split_nodes = [key for key, value in need_split.items() if value == True]\n",
    "        # check whether we reach all terminal nodes\n",
    "        if len(split_nodes) == 0:\n",
    "            break\n",
    "        # find best split positions for all nodes\n",
    "        for split_node in split_nodes:\n",
    "            data_indices = node_indices[split_node]\n",
    "            need_split[split_node] = False\n",
    "            node_means[split_node] = np.mean(y_train[data_indices])       \n",
    "            if len(y_train[data_indices]) <= p:\n",
    "                is_terminal[split_node] = True\n",
    "            else:\n",
    "                is_terminal[split_node] = False\n",
    "                unique_values = np.sort(np.unique(x_train[data_indices]))\n",
    "                split_positions = (unique_values[1:len(unique_values)] + unique_values[0:(len(unique_values) - 1)]) / 2\n",
    "                split_scores = np.repeat(0.0, len(split_positions))\n",
    "                \n",
    "                for s in range(len(split_positions)):\n",
    "                    left_indices = data_indices[x_train[data_indices] <= split_positions[s]]\n",
    "                    right_indices = data_indices[x_train[data_indices] > split_positions[s]]\n",
    "                \n",
    "                    left_means = np.mean(y_train[left_indices])\n",
    "                    left_errors =  sum((y_train[left_indices] - left_means) ** 2)\n",
    "                    right_means = np.mean(y_train[right_indices])\n",
    "                    right_errors = sum((y_train[right_indices] - right_means) ** 2)\n",
    "                    total_error = left_errors + right_errors\n",
    "\n",
    "                    split_scores[s] = total_error / len(data_indices)              \n",
    "    \n",
    "                    \n",
    "                best_split = split_positions[np.argmin(split_scores)]\n",
    "                node_splits[split_node] = best_split\n",
    "\n",
    "                # create left node using the selected split\n",
    "                left_indices = data_indices[x_train[data_indices] < best_split]\n",
    "                node_indices[2 * split_node] = left_indices\n",
    "                is_terminal[2 * split_node] = False\n",
    "                need_split[2 * split_node] = True\n",
    "\n",
    "                # create right node using the selected split\n",
    "                right_indices = data_indices[x_train[data_indices] >= best_split]\n",
    "                node_indices[2 * split_node + 1] = right_indices\n",
    "                is_terminal[2 * split_node + 1] = False\n",
    "                need_split[2 * split_node + 1] = True\n",
    "    return is_terminal, node_means, node_splits\n",
    "\n"
   ]
  },
  {
   "cell_type": "code",
   "execution_count": 3,
   "metadata": {},
   "outputs": [
    {
     "data": {
      "text/plain": [
       "[<matplotlib.lines.Line2D at 0x7f9b32ac3d90>]"
      ]
     },
     "execution_count": 3,
     "metadata": {},
     "output_type": "execute_result"
    },
    {
     "data": {
      "image/png": "[encoded data removed]",
      "text/plain": [
       "<Figure size 864x432 with 1 Axes>"
      ]
     },
     "metadata": {
      "needs_background": "light"
     },
     "output_type": "display_data"
    }
   ],
   "source": [
    "minimum_value = 0\n",
    "maximum_value = 60\n",
    "data_interval = np.linspace(minimum_value, maximum_value, 1601)\n",
    "p_hat = np.repeat(0, 1601)\n",
    "is_terminal, node_means, node_splits = learning_algorithm(15)\n",
    "for i in range(1601):\n",
    "    index = 1\n",
    "    while True:\n",
    "        if is_terminal[index] == True:\n",
    "            p_hat[i] = node_means[index]\n",
    "            break\n",
    "        else:\n",
    "            if data_interval[i] < node_splits[index]:\n",
    "                index = index * 2\n",
    "            else:\n",
    "                index = index * 2 + 1\n",
    "\n",
    "fig, ax = plt.subplots(figsize = (12,6))\n",
    "ax.plot(x_train, y_train, \"b.\", markersize = 10, label = \"training\")\n",
    "ax.plot(x_test, y_test, \"r.\", markersize = 10, label = \"test\")\n",
    "plt.xlabel(\"x\")\n",
    "plt.ylabel(\"y\")\n",
    "plt.title(\"p = 15\")\n",
    "handles, labels = ax.get_legend_handles_labels()\n",
    "ax.legend(handles, labels , loc = \"upper left\")\n",
    "plt.plot(data_interval, p_hat, \"k-\")\n",
    "\n",
    "\n"
   ]
  },
  {
   "cell_type": "code",
   "execution_count": 4,
   "metadata": {},
   "outputs": [],
   "source": [
    "def performance(p):\n",
    "    is_terminal, node_means, node_splits  = learning_algorithm(p)\n",
    "    N_test = x_test.shape[0]  \n",
    "    y_hat = np.zeros((N_test))\n",
    "    for i in range(N_test):\n",
    "        index = 1\n",
    "        while True:\n",
    "            if is_terminal[index] == True:\n",
    "                y_hat[i] = node_means[index]\n",
    "                break\n",
    "            else:\n",
    "                if x_test[i] < node_splits[index]:\n",
    "                    index = index * 2\n",
    "                else:\n",
    "                    index = index * 2 + 1\n",
    "    rmse = np.sqrt(np.sum((y_test-y_hat)**2)/N_test)                \n",
    "    \n",
    "    return round(rmse,3)\n",
    "    "
   ]
  },
  {
   "cell_type": "code",
   "execution_count": 5,
   "metadata": {},
   "outputs": [
    {
     "name": "stdout",
     "output_type": "stream",
     "text": [
      "Regressogram => RMSE is 25.278 when p is 15\n"
     ]
    }
   ],
   "source": [
    "rm = performance(15)\n",
    "print(\"Regressogram => RMSE is\",rm, \"when p is\", 15) "
   ]
  },
  {
   "cell_type": "code",
   "execution_count": 6,
   "metadata": {},
   "outputs": [],
   "source": [
    "p_values = np.arange(5,55,5)\n",
    "rmse_values = np.zeros((p_values.shape))\n",
    "for i,p in enumerate(p_values):\n",
    "    rmse_values[i] = performance(p)"
   ]
  },
  {
   "cell_type": "code",
   "execution_count": 7,
   "metadata": {},
   "outputs": [
    {
     "data": {
      "text/plain": [
       "Text(0, 0.5, 'RMSE')"
      ]
     },
     "execution_count": 7,
     "metadata": {},
     "output_type": "execute_result"
    },
    {
     "data": {
      "image/png": "[encoded data removed]",
      "text/plain": [
       "<Figure size 864x432 with 1 Axes>"
      ]
     },
     "metadata": {
      "needs_background": "light"
     },
     "output_type": "display_data"
    }
   ],
   "source": [
    "fig, ax = plt.subplots(figsize = (12,6))\n",
    "ax.plot(p_values, rmse_values, \"-ok\", markersize = 10)\n",
    "plt.yticks(np.linspace(25.0,30.0,11))\n",
    "plt.xlabel(\"Pre-pruning size(P)\", labelpad = 10)\n",
    "plt.ylabel(\"RMSE\")\n"
   ]
  },
  {
   "cell_type": "code",
   "execution_count": null,
   "metadata": {},
   "outputs": [],
   "source": []
  },
  {
   "cell_type": "code",
   "execution_count": null,
   "metadata": {},
   "outputs": [],
   "source": []
  }
 ],
 "metadata": {
  "kernelspec": {
   "display_name": "Python 3",
   "language": "python",
   "name": "python3"
  },
  "language_info": {
   "codemirror_mode": {
    "name": "ipython",
    "version": 3
   },
   "file_extension": ".py",
   "mimetype": "text/x-python",
   "name": "python",
   "nbconvert_exporter": "python",
   "pygments_lexer": "ipython3",
   "version": "3.8.3"
  }
 },
 "nbformat": 4,
 "nbformat_minor": 4
}
