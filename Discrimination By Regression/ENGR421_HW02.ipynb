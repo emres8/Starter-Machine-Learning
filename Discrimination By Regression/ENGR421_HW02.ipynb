{
 "cells": [
  {
   "cell_type": "code",
   "execution_count": 2,
   "metadata": {},
   "outputs": [],
   "source": [
    "import matplotlib.pyplot as plt\n",
    "import numpy as np\n",
    "import pandas as pd\n"
   ]
  },
  {
   "cell_type": "code",
   "execution_count": 3,
   "metadata": {
    "scrolled": true
   },
   "outputs": [],
   "source": [
    "# read data into memory\n",
    "images= np.genfromtxt(\"hw02_data_set_images.csv\", delimiter = \",\")\n",
    "labels= pd.read_csv(\"hw02_data_set_labels.csv\", delimiter = \",\",header = None).to_numpy()\n",
    "labels_num = np.zeros((195,5))\n",
    "\n",
    "for i in range(195):\n",
    "    if labels[i] == 'A':\n",
    "        labels_num[i] = np.array([1,0,0,0,0])\n",
    "    elif labels[i] == 'B':\n",
    "        labels_num[i] = np.array([0,1,0,0,0])\n",
    "    elif labels[i] == 'C':\n",
    "        labels_num[i] = np.array([0,0,1,0,0])\n",
    "    elif labels[i] == 'D':\n",
    "        labels_num[i] = np.array([0,0,0,1,0])\n",
    "    elif labels[i] == 'E':\n",
    "        labels_num[i] = np.array([0,0,0,0,1])\n",
    "\n",
    "\n",
    "labels_num = labels_num.reshape((5,39,5))\n",
    "\n",
    "images = images.reshape((39,5,320),order ='F')\n",
    "\n",
    "\n"
   ]
  },
  {
   "cell_type": "code",
   "execution_count": 4,
   "metadata": {},
   "outputs": [],
   "source": [
    "images_training = np.zeros((125,320))\n",
    "images_test = np.zeros((70,320))\n",
    "labels_training = np.zeros((125,5))\n",
    "labels_test = np.zeros((70,5))\n",
    "\n",
    "\n",
    "for i in range(5):\n",
    "    labels_training[25*i:25*(i+1)] = labels_num[i][0:25]\n",
    "    labels_test[14*i:14*(i+1)] = labels_num[i][25:39]\n",
    "\n",
    "    images_training[25*i:25*(i+1)] = images[0:25,i,:]\n",
    "    images_test[14*i:14*(i+1)] = images[25:39,i,:]\n",
    "    \n",
    "\n",
    "#number of classes \n",
    "K = 5\n",
    "#number of samples per class\n",
    "N = 25\n"
   ]
  },
  {
   "cell_type": "code",
   "execution_count": 5,
   "metadata": {},
   "outputs": [],
   "source": [
    "#labels_training.shape = (125,5)\n",
    "#labels_test.shape = (70, 5)\n",
    "#images_test.shape = (70, 320)\n",
    "#images_training.shape = (125, 320)\n",
    "def sigmoid(X, W, w0):\n",
    "    scores = 1/(1+ np.exp(-(np.matmul(X,W) + w0)))\n",
    "    return scores\n",
    "\n",
    "# define the gradient functions\n",
    "def gradient_W(X, y_truth, y_predicted):\n",
    "    return(np.asarray(\n",
    "        [-np.sum(np.repeat(((y_truth[:,c] - y_predicted[:,c])*y_predicted[:,c]\n",
    "                *(1 - y_predicted[:,c]))[:, None], X.shape[1], axis = 1) * X, axis = 0) for c in range(K)]).transpose())\n",
    "\n",
    "def gradient_w0(Y_truth, Y_predicted):\n",
    "    return (-np.sum((Y_truth - Y_predicted)*Y_predicted*(1-Y_predicted), axis = 0))\n",
    "   \n"
   ]
  },
  {
   "cell_type": "code",
   "execution_count": 6,
   "metadata": {},
   "outputs": [],
   "source": [
    "# set learning parameters\n",
    "eta = 0.01\n",
    "epsilon = 1e-3"
   ]
  },
  {
   "cell_type": "code",
   "execution_count": 7,
   "metadata": {},
   "outputs": [
    {
     "name": "stdout",
     "output_type": "stream",
     "text": [
      "[[ 0.00365564  0.00606622 -0.0088745   0.00976955 -0.00594956]\n",
      " [-0.00777863 -0.00334092  0.00485218 -0.00185243 -0.00740226]\n",
      " [-0.00540071  0.00437433  0.00688369  0.00856865  0.00319291]\n",
      " ...\n",
      " [ 0.00918161 -0.00932138 -0.00376709 -0.00545653  0.00271732]\n",
      " [-0.00716311  0.00238298 -0.00950264 -0.00913239  0.00579071]\n",
      " [-0.00207441  0.00708117  0.00684862  0.00220557 -0.00297269]]\n",
      "[[ 0.00432565 -0.00494613 -0.00607181 -0.00938394 -0.00737825]]\n"
     ]
    }
   ],
   "source": [
    "# randomly initalize W and w0\n",
    "np.random.seed(421)\n",
    "W = np.random.uniform(low = -0.01, high = 0.01, size = (images_training.shape[1], K))\n",
    "w0 = np.random.uniform(low = -0.01, high = 0.01, size = (1, K))\n",
    "print(W)\n",
    "print(w0)"
   ]
  },
  {
   "cell_type": "code",
   "execution_count": 8,
   "metadata": {},
   "outputs": [],
   "source": [
    "# learn W and w0 using gradient descent\n",
    "iteration = 1\n",
    "objective_values = []\n",
    "while 1:\n",
    "    labels_predicted = sigmoid(images_training, W, w0)\n",
    "    error = (1/2)*np.sum((labels_training -labels_predicted)**2)\n",
    "    objective_values = np.append(objective_values, error)\n",
    "\n",
    "    W_old = W\n",
    "    w0_old = w0\n",
    "\n",
    "    W = W - eta * gradient_W(images_training, labels_training, labels_predicted)\n",
    "    w0 = w0 - eta * gradient_w0(labels_training, labels_predicted)\n",
    "\n",
    "    if np.sqrt(np.sum((w0 - w0_old))**2 + np.sum((W - W_old)**2)) < epsilon:\n",
    "        break\n",
    "\n",
    "    iteration = iteration + 1\n"
   ]
  },
  {
   "cell_type": "code",
   "execution_count": 9,
   "metadata": {},
   "outputs": [
    {
     "data": {
      "image/png": "[encoded data removed]",
      "text/plain": [
       "<Figure size 720x432 with 1 Axes>"
      ]
     },
     "metadata": {
      "needs_background": "light"
     },
     "output_type": "display_data"
    }
   ],
   "source": [
    "# plot objective function during iterations\n",
    "plt.figure(figsize = (10, 6))\n",
    "plt.plot(range(1, iteration + 1), objective_values, \"k-\")\n",
    "plt.xlabel(\"Iteration\")\n",
    "plt.ylabel(\"Error\")\n",
    "plt.show()\n",
    "\n"
   ]
  },
  {
   "cell_type": "code",
   "execution_count": 10,
   "metadata": {},
   "outputs": [
    {
     "name": "stdout",
     "output_type": "stream",
     "text": [
      "y_train_predicted\n",
      "y_truth   0   1   2   3   4\n",
      "y_pred                     \n",
      "0        25   0   0   0   0\n",
      "1         0  25   0   0   0\n",
      "2         0   0  25   0   0\n",
      "3         0   0   0  25   0\n",
      "4         0   0   0   0  25\n"
     ]
    },
    {
     "data": {
      "text/plain": [
       "array([0, 0, 0, 0, 0, 0, 0, 0, 0, 0, 0, 0, 0, 0, 0, 0, 0, 0, 0, 0, 0, 0,\n",
       "       0, 0, 0, 1, 1, 1, 1, 1, 1, 1, 1, 1, 1, 1, 1, 1, 1, 1, 1, 1, 1, 1,\n",
       "       1, 1, 1, 1, 1, 1, 2, 2, 2, 2, 2, 2, 2, 2, 2, 2, 2, 2, 2, 2, 2, 2,\n",
       "       2, 2, 2, 2, 2, 2, 2, 2, 2, 3, 3, 3, 3, 3, 3, 3, 3, 3, 3, 3, 3, 3,\n",
       "       3, 3, 3, 3, 3, 3, 3, 3, 3, 3, 3, 3, 4, 4, 4, 4, 4, 4, 4, 4, 4, 4,\n",
       "       4, 4, 4, 4, 4, 4, 4, 4, 4, 4, 4, 4, 4, 4, 4])"
      ]
     },
     "execution_count": 10,
     "metadata": {},
     "output_type": "execute_result"
    }
   ],
   "source": [
    "\n",
    "#prediction function for particular image returns prediction class \n",
    "def pred(x):\n",
    "    \n",
    "    return np.argmax(sigmoid(x,W,w0), axis=1)\n",
    "\n",
    "\n",
    "\n",
    "# calculate confusion matrix\n",
    "y_predicted = np.argmax(labels_predicted, axis =1)\n",
    "#conversion from one hot to 1-dim array\n",
    "y_truth = np.argmax(labels_training, axis = 1) \n",
    "print(\"y_train_predicted\")\n",
    "confusion_matrix = pd.crosstab(y_truth, y_predicted,rownames = ['y_pred'], colnames = ['y_truth'])\n",
    "print(confusion_matrix)\n"
   ]
  },
  {
   "cell_type": "code",
   "execution_count": 10,
   "metadata": {},
   "outputs": [
    {
     "name": "stdout",
     "output_type": "stream",
     "text": [
      "y_test_predicted\n",
      "y_truth   0   1   2   3   4\n",
      "y_pred                     \n",
      "0        13   1   0   0   0\n",
      "1         1  11   0   1   1\n",
      "2         0   0  14   0   0\n",
      "3         0   0   0  14   0\n",
      "4         0   2   0   0  12\n"
     ]
    }
   ],
   "source": [
    "print(\"y_test_predicted\")\n",
    "test_pred = pred(images_test)\n",
    "test_truth = np.argmax(labels_test, axis= 1)\n",
    "confusion_matrix_test = pd.crosstab(test_truth,test_pred,rownames = ['y_pred'], colnames = ['y_truth'])\n",
    "print(confusion_matrix_test)"
   ]
  },
  {
   "cell_type": "code",
   "execution_count": null,
   "metadata": {},
   "outputs": [],
   "source": []
  }
 ],
 "metadata": {
  "kernelspec": {
   "display_name": "Python 3",
   "language": "python",
   "name": "python3"
  },
  "language_info": {
   "codemirror_mode": {
    "name": "ipython",
    "version": 3
   },
   "file_extension": ".py",
   "mimetype": "text/x-python",
   "name": "python",
   "nbconvert_exporter": "python",
   "pygments_lexer": "ipython3",
   "version": "3.8.3"
  }
 },
 "nbformat": 4,
 "nbformat_minor": 4
}
