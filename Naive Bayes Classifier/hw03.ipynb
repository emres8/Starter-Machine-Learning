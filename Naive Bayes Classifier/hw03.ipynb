{
 "cells": [
  {
   "cell_type": "code",
   "execution_count": 64,
   "metadata": {},
   "outputs": [],
   "source": [
    "import matplotlib.pyplot as plt\n",
    "import numpy as np\n",
    "import pandas as pd"
   ]
  },
  {
   "cell_type": "code",
   "execution_count": 65,
   "metadata": {},
   "outputs": [],
   "source": [
    "# read data into memory\n",
    "images= np.genfromtxt(\"hw02_data_set_images.csv\", delimiter = \",\")\n",
    "labels= pd.read_csv(\"hw02_data_set_labels.csv\", delimiter = \",\",header = None).to_numpy()\n",
    "\n",
    "images = images.reshape((39,5,320),order ='F')\n",
    "\n",
    "\n",
    "labels = labels.reshape((labels.shape[0],))\n",
    "coding,u = pd.factorize(labels)\n",
    "\n",
    "#converting to one_hot\n",
    "targets = coding.reshape(-1)\n",
    "labels_num = np.eye(5)[targets].reshape((5,39,5))"
   ]
  },
  {
   "cell_type": "code",
   "execution_count": 66,
   "metadata": {},
   "outputs": [],
   "source": [
    "X = np.zeros((125,320))\n",
    "X_test = np.zeros((70,320))\n",
    "Y = np.zeros((125,5))\n",
    "Y_test = np.zeros((70,5))\n",
    "\n",
    "\n",
    "for i in range(5):\n",
    "    Y[25*i:25*(i+1)] = labels_num[i][0:25]\n",
    "    Y_test[14*i:14*(i+1)] = labels_num[i][25:39]\n",
    "\n",
    "    X[25*i:25*(i+1)] = images[0:25,i,:]\n",
    "    X_test[14*i:14*(i+1)] = images[25:39,i,:]\n",
    "    \n",
    "\n",
    "#number of classes \n",
    "K = 5\n",
    "#number of samples per class\n",
    "N = 25\n",
    "\n",
    "\n"
   ]
  },
  {
   "cell_type": "code",
   "execution_count": 75,
   "metadata": {},
   "outputs": [
    {
     "data": {
      "text/plain": [
       "[0.2, 0.2, 0.2, 0.2, 0.2]"
      ]
     },
     "execution_count": 75,
     "metadata": {},
     "output_type": "execute_result"
    }
   ],
   "source": [
    "class_priors = [np.mean(coding == c) for c in range(K)]\n",
    "\n",
    "\n"
   ]
  },
  {
   "cell_type": "code",
   "execution_count": null,
   "metadata": {},
   "outputs": [],
   "source": []
  },
  {
   "cell_type": "code",
   "execution_count": null,
   "metadata": {},
   "outputs": [],
   "source": []
  },
  {
   "cell_type": "code",
   "execution_count": null,
   "metadata": {},
   "outputs": [],
   "source": []
  }
 ],
 "metadata": {
  "kernelspec": {
   "display_name": "Python 3",
   "language": "python",
   "name": "python3"
  },
  "language_info": {
   "codemirror_mode": {
    "name": "ipython",
    "version": 3
   },
   "file_extension": ".py",
   "mimetype": "text/x-python",
   "name": "python",
   "nbconvert_exporter": "python",
   "pygments_lexer": "ipython3",
   "version": "3.8.3"
  }
 },
 "nbformat": 4,
 "nbformat_minor": 4
}
